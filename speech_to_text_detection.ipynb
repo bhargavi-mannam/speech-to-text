{
  "nbformat": 4,
  "nbformat_minor": 0,
  "metadata": {
    "colab": {
      "provenance": [],
      "mount_file_id": "1IfHhtNX7RHxux5hZnGEeyRZkLUIUU_fC",
      "authorship_tag": "ABX9TyNXCJ91n/EejsN/pLBW4R+P",
      "include_colab_link": true
    },
    "kernelspec": {
      "name": "python3",
      "display_name": "Python 3"
    },
    "language_info": {
      "name": "python"
    }
  },
  "cells": [
    {
      "cell_type": "markdown",
      "metadata": {
        "id": "view-in-github",
        "colab_type": "text"
      },
      "source": [
        "<a href=\"https://colab.research.google.com/github/bhargavi-mannam/speech-to-text/blob/main/speech_to_text_detection.ipynb\" target=\"_parent\"><img src=\"https://colab.research.google.com/assets/colab-badge.svg\" alt=\"Open In Colab\"/></a>"
      ]
    },
    {
      "cell_type": "markdown",
      "source": [
        "# 1. Importing the Required packages"
      ],
      "metadata": {
        "id": "cIYJIZz_ICGI"
      }
    },
    {
      "cell_type": "markdown",
      "source": [
        "**The command pip install SpeechRecognition pydub is used to install two Python packages: SpeechRecognition and pydub. Here’s what each of them does:**\n",
        "\n",
        "**1. SpeechRecognition**\n",
        "* *Package Name:* SpeechRecognition\n",
        "* *Purpose:* This library provides an easy-to-use interface for performing speech recognition, allowing you to convert spoken language into text.\n",
        "* It supports multiple speech recognition engines and APIs, including\n",
        "\n",
        "* Google Web Speech API, Sphinx, and more.\n",
        "Usage: Commonly used in projects that involve voice commands, transcription, and other speech processing tasks.\n",
        "\n",
        "**2. pydub**\n",
        "* *Package Name:*pydub\n",
        "\n",
        "* *Purpose:* This library is used for audio manipulation. It provides\n",
        "* *simple and easy-to-use functions for tasks such as:*\n",
        "* Loading audio files\n",
        "Converting between audio formats (e.g., MP3 to WAV)\n",
        "* Trimming audio segments\n",
        "* Adjusting volume and applying effects\n",
        "* Usage: Useful when you need to preprocess audio files before using them for speech recognition or when you want to perform audio editing tasks.\n",
        "Complete Command"
      ],
      "metadata": {
        "id": "WgmywP7cIHLR"
      }
    },
    {
      "cell_type": "code",
      "execution_count": 6,
      "metadata": {
        "colab": {
          "base_uri": "https://localhost:8080/"
        },
        "id": "dQ_ljYbT9sUp",
        "outputId": "91c2627c-ef9f-4862-f0ef-b41b22b6c936"
      },
      "outputs": [
        {
          "output_type": "stream",
          "name": "stdout",
          "text": [
            "Requirement already satisfied: SpeechRecognition in /usr/local/lib/python3.10/dist-packages (3.11.0)\n",
            "Requirement already satisfied: pydub in /usr/local/lib/python3.10/dist-packages (0.25.1)\n",
            "Requirement already satisfied: requests>=2.26.0 in /usr/local/lib/python3.10/dist-packages (from SpeechRecognition) (2.32.3)\n",
            "Requirement already satisfied: typing-extensions in /usr/local/lib/python3.10/dist-packages (from SpeechRecognition) (4.12.2)\n",
            "Requirement already satisfied: charset-normalizer<4,>=2 in /usr/local/lib/python3.10/dist-packages (from requests>=2.26.0->SpeechRecognition) (3.4.0)\n",
            "Requirement already satisfied: idna<4,>=2.5 in /usr/local/lib/python3.10/dist-packages (from requests>=2.26.0->SpeechRecognition) (3.10)\n",
            "Requirement already satisfied: urllib3<3,>=1.21.1 in /usr/local/lib/python3.10/dist-packages (from requests>=2.26.0->SpeechRecognition) (2.2.3)\n",
            "Requirement already satisfied: certifi>=2017.4.17 in /usr/local/lib/python3.10/dist-packages (from requests>=2.26.0->SpeechRecognition) (2024.8.30)\n"
          ]
        }
      ],
      "source": [
        "pip install SpeechRecognition pydub\n"
      ]
    },
    {
      "cell_type": "markdown",
      "source": [],
      "metadata": {
        "id": "31KqWyLqIVTI"
      }
    },
    {
      "cell_type": "markdown",
      "source": [
        "# Install the Package from the Wheel File"
      ],
      "metadata": {
        "id": "ajfuIs6sIlX6"
      }
    },
    {
      "cell_type": "markdown",
      "source": [
        "**After uploading the file, you can install it using pip with the path to the uploaded file. You can reference the file directly from the current working directory. Here's how you can do it:**"
      ],
      "metadata": {
        "id": "gxg1dX_0Is9g"
      }
    },
    {
      "cell_type": "markdown",
      "source": [
        "**A wheel file (with the extension .whl) is a type of built distribution for Python packages. It is a binary package format that allows for faster installation than source distributions, as it doesn't require the package to be built or compiled during installation.**"
      ],
      "metadata": {
        "id": "R9oewXvjN1b2"
      }
    },
    {
      "cell_type": "code",
      "source": [
        "pip install <path-to-downloaded-file>.whl\n"
      ],
      "metadata": {
        "colab": {
          "base_uri": "https://localhost:8080/"
        },
        "id": "BNdZeLU5-a1I",
        "outputId": "2bbfe39c-8519-49ae-a3d0-1e4146e1cbd2"
      },
      "execution_count": 7,
      "outputs": [
        {
          "output_type": "stream",
          "name": "stdout",
          "text": [
            "/bin/bash: line 1: path-to-downloaded-file: No such file or directory\n"
          ]
        }
      ]
    },
    {
      "cell_type": "markdown",
      "source": [
        "# 2.Importing the Required Libraries"
      ],
      "metadata": {
        "id": "4yrJMzJzKUxp"
      }
    },
    {
      "cell_type": "markdown",
      "source": [
        "**speech_recognition:**This library is used for recognizing speech and converting it into text. It supports multiple speech recognition engines, including Google’s web API."
      ],
      "metadata": {
        "id": "yDA2yVcRKbcv"
      }
    },
    {
      "cell_type": "code",
      "source": [
        "import speech_recognition as sr\n"
      ],
      "metadata": {
        "id": "ERvvs6RA93J4"
      },
      "execution_count": 14,
      "outputs": []
    },
    {
      "cell_type": "markdown",
      "source": [
        "# 3.Defining the Function"
      ],
      "metadata": {
        "id": "-Xx3whlYKugv"
      }
    },
    {
      "cell_type": "markdown",
      "source": [
        "**transcribe_audio_file:** This function takes one argument, file_path, which is the path to the audio file you want to transcribe."
      ],
      "metadata": {
        "id": "znqfkGo-Kz_H"
      }
    },
    {
      "cell_type": "markdown",
      "source": [
        "# 4.Creating a Recognizer Instance"
      ],
      "metadata": {
        "id": "YHNEHzEZK-Ji"
      }
    },
    {
      "cell_type": "markdown",
      "source": [
        "**sr.Recognizer():** This creates an instance of the Recognizer class, which is responsible for processing audio and performing speech recognition"
      ],
      "metadata": {
        "id": "7qEdG2bILEmb"
      }
    },
    {
      "cell_type": "markdown",
      "source": [],
      "metadata": {
        "id": "1y3XwJJGLCev"
      }
    },
    {
      "cell_type": "markdown",
      "source": [
        "# 5.Loading the Audio File"
      ],
      "metadata": {
        "id": "rUue7bm9L38n"
      }
    },
    {
      "cell_type": "markdown",
      "source": [
        "* **sr.AudioFile(file_path):** This opens the audio file specified by file_path.\n",
        "* **with statement:** Ensures that the file is properly managed (opened and closed).\n",
        "* **recognizer.record(source):** Reads the entire audio file into memory."
      ],
      "metadata": {
        "id": "PuHs9izDME1_"
      }
    },
    {
      "cell_type": "markdown",
      "source": [
        "# 6.Transcribing the Audio"
      ],
      "metadata": {
        "id": "Mk2EGVSTMTKX"
      }
    },
    {
      "cell_type": "markdown",
      "source": [
        "\n",
        "\n",
        "*   **try block:** This is used to handle potential errors during transcription.\n",
        "* **recognizer.recognize_google(audio):** This sends the audio data to the Google Web Speech API to transcribe it into text.\n",
        "* **print(\"Transcribed Text:\", text):** Outputs the transcribed text to the console.\n",
        "* **return text:** Returns the transcribed text so that it can be used later if needed.\n",
        "\n"
      ],
      "metadata": {
        "id": "b8vnbMiCMX9O"
      }
    },
    {
      "cell_type": "markdown",
      "source": [
        "# 7.Handling Errors"
      ],
      "metadata": {
        "id": "CQLkodT4MtR5"
      }
    },
    {
      "cell_type": "markdown",
      "source": [
        "* **sr.UnknownValueError:** Catches errors where the speech recognition engine cannot understand the audio.\n",
        "* **sr.RequestError:** Catches errors related to network issues (e.g., if the API cannot be reached)."
      ],
      "metadata": {
        "id": "_JimeuATMxPX"
      }
    },
    {
      "cell_type": "markdown",
      "source": [
        "# 8. Calling the Function"
      ],
      "metadata": {
        "id": "-ufcEAnFM7uH"
      }
    },
    {
      "cell_type": "markdown",
      "source": [
        "* This line calls the transcribe_audio_file function and provides the path to the audio file as an argument.\n",
        "* It will execute the transcription process defined in the function"
      ],
      "metadata": {
        "id": "izPW9FTUM_Mu"
      }
    },
    {
      "cell_type": "code",
      "source": [
        "import speech_recognition as sr\n",
        "\n",
        "def transcribe_audio_file(file_path):  # Define function with one parameter\n",
        "    recognizer = sr.Recognizer()  # Create an instance of Recognizer\n",
        "\n",
        "    # Load the audio file\n",
        "    with sr.AudioFile(file_path) as source:\n",
        "        audio = recognizer.record(source)  # Record the audio from the file\n",
        "\n",
        "    # Try to transcribe the audio file\n",
        "    try:\n",
        "        text = recognizer.recognize_google(audio)  # Transcribe using Google API\n",
        "        print(\"Transcribed Text:\", text)  # Print the transcribed text\n",
        "        return text  # Return the transcribed text\n",
        "    except sr.UnknownValueError:\n",
        "        print(\"Could not understand the audio.\")  # Handle case where audio is not understood\n",
        "    except sr.RequestError:\n",
        "        print(\"Could not request results; check your network connection.\")  # Handle request errors\n",
        "\n",
        "# Call the function with the path to your audio file\n",
        "transcribe_audio_file(\"/content/sppech to text (online-audio-converter.com).wav\")  # Example call\n"
      ],
      "metadata": {
        "colab": {
          "base_uri": "https://localhost:8080/",
          "height": 53
        },
        "id": "EDTDNYmkKirQ",
        "outputId": "1edf2a3b-89db-423b-d744-938f72f31e61"
      },
      "execution_count": 20,
      "outputs": [
        {
          "output_type": "stream",
          "name": "stdout",
          "text": [
            "Transcribed Text: hey buddy this is my new project name speech to text\n"
          ]
        },
        {
          "output_type": "execute_result",
          "data": {
            "text/plain": [
              "'hey buddy this is my new project name speech to text'"
            ],
            "application/vnd.google.colaboratory.intrinsic+json": {
              "type": "string"
            }
          },
          "metadata": {},
          "execution_count": 20
        }
      ]
    },
    {
      "cell_type": "markdown",
      "source": [
        "**The .wav file extension stands for Waveform Audio File Format. It is a standard audio file format used for storing audio on computers, and it was developed by Microsoft and IBM. Here are some key features and characteristics of .wav files:**"
      ],
      "metadata": {
        "id": "DTWyIdnBOAWZ"
      }
    },
    {
      "cell_type": "markdown",
      "source": [
        "# Summary"
      ],
      "metadata": {
        "id": "O158iu5iNJfY"
      }
    },
    {
      "cell_type": "markdown",
      "source": [
        "* The code essentially loads an audio file, processes it with a speech recognizer, and converts it to text using Google’s speech recognition service.\n",
        "* Error handling ensures that common issues are caught and reported back to the user, making the program more robust."
      ],
      "metadata": {
        "id": "iFSGJeRjNJ2N"
      }
    },
    {
      "cell_type": "markdown",
      "source": [],
      "metadata": {
        "id": "cMsGzMz5IAoc"
      }
    }
  ]
}